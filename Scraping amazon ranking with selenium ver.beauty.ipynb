{
 "cells": [
  {
   "cell_type": "code",
   "execution_count": 31,
   "id": "d543171c",
   "metadata": {},
   "outputs": [],
   "source": [
    "from selenium import webdriver\n",
    "from selenium.webdriver.common.by import By  # ver.4からこのimportが必要。findの書き方も変更されている。\n",
    "import urllib\n",
    "import requests\n",
    "from time import sleep\n",
    "# SSL検証を無視\n",
    "import ssl\n",
    "ssl._create_default_https_context = ssl._create_unverified_context"
   ]
  },
  {
   "cell_type": "code",
   "execution_count": 2,
   "id": "079529b1",
   "metadata": {},
   "outputs": [],
   "source": [
    "# start Selenium\n",
    "driver = webdriver.Chrome()"
   ]
  },
  {
   "cell_type": "code",
   "execution_count": 3,
   "id": "ea1b5594",
   "metadata": {},
   "outputs": [
    {
     "name": "stdout",
     "output_type": "stream",
     "text": [
      "https://www.amazon.co.jp/gp/bestsellers/beauty/\n"
     ]
    }
   ],
   "source": [
    "category_base = \"https://www.amazon.co.jp/gp/bestsellers/\"\n",
    "category_beauty = \"beauty\"\n",
    "category_beauty_url = f\"{category_base}{category_beauty}/\"\n",
    "print(category_beauty_url)\n",
    "driver.get(category_beauty_url)"
   ]
  },
  {
   "cell_type": "code",
   "execution_count": 4,
   "id": "c905c1cc",
   "metadata": {},
   "outputs": [],
   "source": [
    "# my_id = \"associate_id\"\n",
    "# ranking_list = []"
   ]
  },
  {
   "cell_type": "code",
   "execution_count": 5,
   "id": "cc736c80",
   "metadata": {},
   "outputs": [],
   "source": [
    "# # Process href\n",
    "# def process_href(myid,href):\n",
    "#    head = \"https://www.amazon.co.jp/\"\n",
    "#    dp_str = \"dp/\"\n",
    "#    asin_base = href.split(dp_str)\n",
    "#    asin = asin_base[-1][:10]\n",
    "#    url = f\"{head}{dp_str}{asin}?tag={my_id}\"\n",
    "#    return url"
   ]
  },
  {
   "cell_type": "code",
   "execution_count": 6,
   "id": "5471ec19",
   "metadata": {},
   "outputs": [],
   "source": [
    "# def get_shortenURL(longUrl):\n",
    "#    sleep(1)\n",
    "#    url = 'https://api-ssl.bitly.com/v3/shorten'\n",
    "#    access_token = '自分のアクセストークン'\n",
    "#    query = {\n",
    "#            'access_token': access_token,\n",
    "#            'longurl':longUrl\n",
    "#            }\n",
    "#    r = requests.get(url,params=query).json()['data']['url']\n",
    "#    return r"
   ]
  },
  {
   "cell_type": "code",
   "execution_count": 7,
   "id": "9f5a6e6f",
   "metadata": {},
   "outputs": [
    {
     "name": "stdout",
     "output_type": "stream",
     "text": [
      "#1\n"
     ]
    }
   ],
   "source": [
    "base = driver.find_element(By.CSS_SELECTOR, \".a-cardui._cDEzb_grid-cell_1uMOS.p13n-grid-content\")\n",
    "rank_ele = base.find_element(By.CSS_SELECTOR, \"span\")\n",
    "rank = rank_ele.text\n",
    "print(rank)"
   ]
  },
  {
   "cell_type": "code",
   "execution_count": 9,
   "id": "afa79d79",
   "metadata": {
    "scrolled": false
   },
   "outputs": [
    {
     "name": "stdout",
     "output_type": "stream",
     "text": [
      "<selenium.webdriver.remote.webelement.WebElement (session=\"6e5972de719eb8f98899bcbe479dcc0e\", element=\"e4fa5f00-914c-492e-a0c2-05ffb0a0064b\")>\n"
     ]
    }
   ],
   "source": [
    "base_2 = base.find_element(By.CSS_SELECTOR, \".zg-grid-general-faceout\")\n",
    "print(base_2)"
   ]
  },
  {
   "cell_type": "code",
   "execution_count": 10,
   "id": "c8487498",
   "metadata": {},
   "outputs": [
    {
     "name": "stdout",
     "output_type": "stream",
     "text": [
      "https://www.amazon.co.jp/KATE-%E3%82%B1%E3%82%A4%E3%83%88-%E3%83%AA%E3%83%83%E3%83%97%E3%83%A2%E3%83%B3%E3%82%B9%E3%82%BF%E3%83%BC-%E6%AC%B2%E6%9C%9B%E3%81%AE%E5%A1%8A-3%E3%82%B0%E3%83%A9%E3%83%A0/dp/B08YKFXRWQ/ref=zg_bs_beauty_1/358-5052760-1412441?pd_rd_i=B091LGS3DJ&psc=1\n"
     ]
    }
   ],
   "source": [
    "a_ele = base_2.find_element(By.CSS_SELECTOR, \"a\")\n",
    "href = a_ele.get_attribute('href')\n",
    "print(href)"
   ]
  },
  {
   "cell_type": "code",
   "execution_count": 11,
   "id": "b6c29abe",
   "metadata": {},
   "outputs": [
    {
     "name": "stdout",
     "output_type": "stream",
     "text": [
      "KATE(ケイト) リップモンスター 01 口紅 欲望の塊 3グラム (x 1)\n"
     ]
    }
   ],
   "source": [
    "title_ele = base_2.find_element(By.CSS_SELECTOR, \"._cDEzb_p13n-sc-css-line-clamp-3_g3dy1\")\n",
    "title = title_ele.text\n",
    "print(title)"
   ]
  },
  {
   "cell_type": "code",
   "execution_count": 26,
   "id": "d546b6bb",
   "metadata": {},
   "outputs": [
    {
     "name": "stdout",
     "output_type": "stream",
     "text": [
      "5つ星のうち4.4\n"
     ]
    }
   ],
   "source": [
    "base_3 = base.find_element(By.CSS_SELECTOR, \".a-row\")\n",
    "evaluaton_ele = base_3.find_element(By.CSS_SELECTOR, \"div > a\")\n",
    "evaluaton = evaluaton_ele.get_attribute('title')\n",
    "print(evaluaton)"
   ]
  },
  {
   "cell_type": "code",
   "execution_count": 16,
   "id": "ca9ba9a5",
   "metadata": {},
   "outputs": [
    {
     "name": "stdout",
     "output_type": "stream",
     "text": [
      "￥1,540 - ￥3,500\n"
     ]
    }
   ],
   "source": [
    "price_ele = base_2.find_element(By.CSS_SELECTOR, \".a-link-normal.a-text-normal\")\n",
    "price = price_ele.text\n",
    "print(price)"
   ]
  },
  {
   "cell_type": "code",
   "execution_count": 29,
   "id": "1995f8eb",
   "metadata": {},
   "outputs": [
    {
     "name": "stdout",
     "output_type": "stream",
     "text": [
      "https://images-fe.ssl-images-amazon.com/images/I/51lcPcibLTS._AC_UL906_SR906,600_.jpg\n"
     ]
    }
   ],
   "source": [
    "img_ele = base_2.find_element(By.CSS_SELECTOR, \"img\")\n",
    "img_url = img_ele.get_attribute('src')\n",
    "print(img_url)"
   ]
  },
  {
   "cell_type": "code",
   "execution_count": 35,
   "id": "d2d7e3e8",
   "metadata": {},
   "outputs": [
    {
     "data": {
      "text/plain": [
       "('/Users/makoto.miyagawa/Web-scraping-exercises-using-Selenium/img amazon_ranking/.jpg',\n",
       " <http.client.HTTPMessage at 0x107c02860>)"
      ]
     },
     "execution_count": 35,
     "metadata": {},
     "output_type": "execute_result"
    }
   ],
   "source": [
    "# save picture\n",
    "urllib.request.urlretrieve(img_url, '/Users/makoto.miyagawa/Web-scraping-exercises-using-Selenium/img amazon_ranking/.jpg')"
   ]
  },
  {
   "cell_type": "markdown",
   "id": "f101c3ea",
   "metadata": {},
   "source": [
    "# for\n",
    "base_ele = driver.find_elements_by_css_selector('.a-section.a-spacing-none.aok-relative')\n",
    "i=0\n",
    "for base in base_ele:\n",
    "   i+=1\n",
    "   print(i)\n",
    "   ranking_item = {}\n",
    "   rank_ele = base.find_element_by_css_selector('span')\n",
    "   rank=rank_ele.text\n",
    "\n",
    "   base_2 = base.find_element_by_css_selector('.aok-inline-block.zg-item')\n",
    "\n",
    "   a_ele = base_2.find_element_by_css_selector('a')\n",
    "   href = a_ele.get_attribute('href')\n",
    "   comp_url = process_href(my_id,href)\n",
    "   # あとでやった方が効率がよさそう（ツイートするときとかに）\n",
    "   #short_url = get_shortenURL(comp_url)\n",
    "   short_url = comp_url\n",
    "\n",
    "   title_ele = a_ele.find_element_by_css_selector('.p13n-sc-truncated')\n",
    "   title = title_ele.text\n",
    "\n",
    "   evaluation_ele = base_2.find_element_by_css_selector('div > a')\n",
    "   evaluation = evaluation_ele.get_attribute('title')\n",
    "   try:\n",
    "       price_ele = base_2.find_element_by_css_selector('.a-row')\n",
    "       price = price_ele.text\n",
    "   except:\n",
    "       price_ele = base_2.find_element_by_css_selector('.a-link-normal.a-text-normal')\n",
    "       price = price_ele.text\n",
    "\n",
    "   img_ele = base_2.find_element_by_css_selector('img')\n",
    "   img_url = img_ele.get_attribute('src')\n",
    "   # パスを追加してそこに保存するようにする。名前はまだ、（日付カテゴリランク）とかがよさそう\n",
    "   img_path = img_url\n",
    "   # save picture\n",
    "   #urllib.request.urlretrieve(img_url, 'img_path')\n",
    "   \n",
    "   ranking_item.update(img_path=img_path, rank=rank, title=title, short_url=short_url, evaluation=evaluation, price=price)\n",
    "   print(ranking_item)\n",
    "   ranking_list.append(ranking_item)\n",
    "   \n",
    "print('抽出完了')"
   ]
  }
 ],
 "metadata": {
  "kernelspec": {
   "display_name": "Python 3 (ipykernel)",
   "language": "python",
   "name": "python3"
  },
  "language_info": {
   "codemirror_mode": {
    "name": "ipython",
    "version": 3
   },
   "file_extension": ".py",
   "mimetype": "text/x-python",
   "name": "python",
   "nbconvert_exporter": "python",
   "pygments_lexer": "ipython3",
   "version": "3.10.4"
  }
 },
 "nbformat": 4,
 "nbformat_minor": 5
}
