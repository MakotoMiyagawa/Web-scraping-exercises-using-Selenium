{
 "cells": [
  {
   "cell_type": "code",
   "execution_count": 1,
   "id": "d543171c",
   "metadata": {},
   "outputs": [],
   "source": [
    "from selenium import webdriver\n",
    "import urllib\n",
    "import requests\n",
    "from time import sleep"
   ]
  },
  {
   "cell_type": "code",
   "execution_count": 2,
   "id": "079529b1",
   "metadata": {},
   "outputs": [],
   "source": [
    "# start Selenium\n",
    "driver = webdriver.Chrome('chromedriver')"
   ]
  },
  {
   "cell_type": "code",
   "execution_count": 3,
   "id": "13e943db",
   "metadata": {},
   "outputs": [
    {
     "name": "stdout",
     "output_type": "stream",
     "text": [
      "https://www.amazon.co.jp/gp/bestsellers/beauty/\n"
     ]
    }
   ],
   "source": [
    "category_base = \"https://www.amazon.co.jp/gp/bestsellers/\"\n",
    "category_beauty = \"beauty\"\n",
    "category_beauty_url = f\"{category_base}{category_beauty}/\"\n",
    "print(category_beauty_url)\n",
    "driver.get(category_beauty_url)"
   ]
  },
  {
   "cell_type": "code",
   "execution_count": 4,
   "id": "c905c1cc",
   "metadata": {},
   "outputs": [],
   "source": [
    "# my_id = \"associate_id\"\n",
    "# ranking_list = []"
   ]
  },
  {
   "cell_type": "code",
   "execution_count": 5,
   "id": "cc736c80",
   "metadata": {},
   "outputs": [],
   "source": [
    "# # Process href\n",
    "# def process_href(myid,href):\n",
    "#    head = \"https://www.amazon.co.jp/\"\n",
    "#    dp_str = \"dp/\"\n",
    "#    asin_base = href.split(dp_str)\n",
    "#    asin = asin_base[-1][:10]\n",
    "#    url = f\"{head}{dp_str}{asin}?tag={my_id}\"\n",
    "#    return url"
   ]
  },
  {
   "cell_type": "code",
   "execution_count": 6,
   "id": "5471ec19",
   "metadata": {},
   "outputs": [],
   "source": [
    "# def get_shortenURL(longUrl):\n",
    "#    sleep(1)\n",
    "#    url = 'https://api-ssl.bitly.com/v3/shorten'\n",
    "#    access_token = '自分のアクセストークン'\n",
    "#    query = {\n",
    "#            'access_token': access_token,\n",
    "#            'longurl':longUrl\n",
    "#            }\n",
    "#    r = requests.get(url,params=query).json()['data']['url']\n",
    "#    return r"
   ]
  },
  {
   "cell_type": "code",
   "execution_count": 7,
   "id": "34b81d26",
   "metadata": {},
   "outputs": [
    {
     "name": "stdout",
     "output_type": "stream",
     "text": [
      "抽出完了\n"
     ]
    },
    {
     "name": "stderr",
     "output_type": "stream",
     "text": [
      "/var/folders/dz/dm5hh5wx1l5_0xqjq6vb2v7m0000gn/T/ipykernel_1072/1191667926.py:2: DeprecationWarning: find_elements_by_css_selector is deprecated. Please use find_elements(by=By.CSS_SELECTOR, value=css_selector) instead\n",
      "  base_ele = driver.find_elements_by_css_selector('.a-section.a-spacing-none.aok-relative')\n"
     ]
    }
   ],
   "source": [
    "# for\n",
    "base_ele = driver.find_elements_by_css_selector('.a-section.a-spacing-none.aok-relative')\n",
    "i=0\n",
    "for base in base_ele:\n",
    "   i+=1\n",
    "   print(i)\n",
    "   ranking_item = {}\n",
    "   rank_ele = base.find_element_by_css_selector('span')\n",
    "   rank=rank_ele.text\n",
    "\n",
    "   base_2 = base.find_element_by_css_selector('.aok-inline-block.zg-item')\n",
    "\n",
    "   a_ele = base_2.find_element_by_css_selector('a')\n",
    "   href = a_ele.get_attribute('href')\n",
    "   comp_url = process_href(my_id,href)\n",
    "   # あとでやった方が効率がよさそう（ツイートするときとかに）\n",
    "   #short_url = get_shortenURL(comp_url)\n",
    "   short_url = comp_url\n",
    "\n",
    "   title_ele = a_ele.find_element_by_css_selector('.p13n-sc-truncated')\n",
    "   title = title_ele.text\n",
    "\n",
    "   evaluation_ele = base_2.find_element_by_css_selector('div > a')\n",
    "   evaluation = evaluation_ele.get_attribute('title')\n",
    "   try:\n",
    "       price_ele = base_2.find_element_by_css_selector('.a-row')\n",
    "       price = price_ele.text\n",
    "   except:\n",
    "       price_ele = base_2.find_element_by_css_selector('.a-link-normal.a-text-normal')\n",
    "       price = price_ele.text\n",
    "\n",
    "   img_ele = base_2.find_element_by_css_selector('img')\n",
    "   img_url = img_ele.get_attribute('src')\n",
    "   # パスを追加してそこに保存するようにする。名前はまだ、（日付カテゴリランク）とかがよさそう\n",
    "   img_path = img_url\n",
    "   # save picture\n",
    "   #urllib.request.urlretrieve(img_url, 'img_path')\n",
    "   \n",
    "   ranking_item.update(img_path=img_path, rank=rank, title=title, short_url=short_url, evaluation=evaluation, price=price)\n",
    "   print(ranking_item)\n",
    "   ranking_list.append(ranking_item)\n",
    "   \n",
    "print('抽出完了')"
   ]
  },
  {
   "cell_type": "code",
   "execution_count": null,
   "id": "59b599fc",
   "metadata": {},
   "outputs": [],
   "source": []
  }
 ],
 "metadata": {
  "kernelspec": {
   "display_name": "Python 3 (ipykernel)",
   "language": "python",
   "name": "python3"
  },
  "language_info": {
   "codemirror_mode": {
    "name": "ipython",
    "version": 3
   },
   "file_extension": ".py",
   "mimetype": "text/x-python",
   "name": "python",
   "nbconvert_exporter": "python",
   "pygments_lexer": "ipython3",
   "version": "3.10.4"
  }
 },
 "nbformat": 4,
 "nbformat_minor": 5
}
