{
 "cells": [
  {
   "cell_type": "code",
   "execution_count": 1,
   "id": "b2befaf6",
   "metadata": {},
   "outputs": [],
   "source": [
    "# seleniumの読み込み\n",
    "from selenium import webdriver\n",
    "\n",
    "# 一時停止用の標準ライブラリの読み込み\n",
    "from time import sleep"
   ]
  },
  {
   "cell_type": "code",
   "execution_count": 2,
   "id": "7b174da9",
   "metadata": {},
   "outputs": [],
   "source": [
    "# Google Chromeを使いますよと宣言\n",
    "# Macの方\n",
    "browser = webdriver.Chrome()"
   ]
  },
  {
   "cell_type": "markdown",
   "id": "795e7b45",
   "metadata": {},
   "source": [
    "# 以下はその他の環境構築要素とwindows用コマンド"
   ]
  },
  {
   "cell_type": "markdown",
   "id": "a742e295",
   "metadata": {},
   "source": [
    "## firefoxを使いますよと宣言\n",
    "browser = webdriver.Firefox()\n",
    "\n",
    "エラーが出るのでgeckodriverが必要\n",
    "Mac ターミナルにて　brew install geckodriver　を入力する\n",
    "Win サイトからダウンロード　同じ階層に置く\n",
    "\n",
    "起動を確かめる\n",
    "#### Macの方\n",
    "browser = webdriver.Firefox()\n",
    "#### Windowsの方\n",
    "browser = webdriver.Firefox('geckodriver.exe')\n",
    "\n",
    "Googlechromeを起動させるために\n",
    "#### Mac\n",
    "brew install chromedriver\n",
    "#### Win\n",
    "該当のchromedriverをサイトから入手\n",
    "\n",
    "## Google Chromeを使いますよと宣言\n",
    "#### Macの方\n",
    "browser = webdriver.Chrome()\n",
    "#### Windowsの方\n",
    "browser = webdriver.Chrome('chromedriver.exe')\n",
    "\n",
    "Pillow\n",
    "画像を扱うためのライブラリである Pillow をインストールしましょう。\n",
    "pip3 install Pillow\n",
    "もしくは、\n",
    "pip install Pillow"
   ]
  },
  {
   "cell_type": "code",
   "execution_count": 2,
   "id": "12054c9a",
   "metadata": {},
   "outputs": [],
   "source": [
    "from PIL import Image"
   ]
  }
 ],
 "metadata": {
  "kernelspec": {
   "display_name": "Python 3 (ipykernel)",
   "language": "python",
   "name": "python3"
  },
  "language_info": {
   "codemirror_mode": {
    "name": "ipython",
    "version": 3
   },
   "file_extension": ".py",
   "mimetype": "text/x-python",
   "name": "python",
   "nbconvert_exporter": "python",
   "pygments_lexer": "ipython3",
   "version": "3.10.4"
  }
 },
 "nbformat": 4,
 "nbformat_minor": 5
}
