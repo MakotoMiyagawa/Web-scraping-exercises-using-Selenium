{
 "cells": [
  {
   "cell_type": "markdown",
   "id": "fea96cec",
   "metadata": {},
   "source": [
    "# Robots.txtの取得"
   ]
  },
  {
   "cell_type": "code",
   "execution_count": 1,
   "id": "4170cecf",
   "metadata": {},
   "outputs": [],
   "source": [
    "import selenium\n",
    "from selenium import webdriver"
   ]
  },
  {
   "cell_type": "code",
   "execution_count": 2,
   "id": "d7e32b23",
   "metadata": {},
   "outputs": [],
   "source": [
    "browser = webdriver.Chrome()"
   ]
  },
  {
   "cell_type": "code",
   "execution_count": 3,
   "id": "e1896efe",
   "metadata": {},
   "outputs": [],
   "source": [
    "browser.get('https://www.amazon.co.jp/robots.txt')  # robots.txtページ"
   ]
  },
  {
   "cell_type": "markdown",
   "id": "e5657e8b",
   "metadata": {},
   "source": [
    "# 記載事項の抽出"
   ]
  },
  {
   "cell_type": "code",
   "execution_count": 4,
   "id": "bd35c0da",
   "metadata": {
    "scrolled": true
   },
   "outputs": [
    {
     "name": "stderr",
     "output_type": "stream",
     "text": [
      "/var/folders/dz/dm5hh5wx1l5_0xqjq6vb2v7m0000gn/T/ipykernel_2388/4182056673.py:1: DeprecationWarning: find_element_by_tag_name is deprecated. Please use find_element(by=By.TAG_NAME, value=name) instead\n",
      "  elm = browser.find_element_by_tag_name('pre')\n"
     ]
    },
    {
     "data": {
      "text/plain": [
       "'User-agent: *\\nDisallow: /dp/product-availability/\\nDisallow: /dp/rate-this-item/\\nDisallow: /exec/obidos/account-access-login\\nDisallow: /exec/obidos/change-style\\nDisallow: /exec/obidos/di\\nDisallow: /exec/obidos/dt\\nDisallow: /exec/obidos/dt/assoc/handle-buy-box\\nDisallow: /exec/obidos/flex-sign-in\\nDisallow: /exec/obidos/handle-buy-box\\nDisallow: /exec/obidos/refer-a-friend-login\\nDisallow: /exec/obidos/subst/associates/join\\nDisallow: /exec/obidos/subst/marketplace/sell-your-collection.html\\nDisallow: /exec/obidos/subst/marketplace/sell-your-stuff.html\\nDisallow: /exec/obidos/subst/partners/friends/access.html\\nDisallow: /exec/obidos/tg/cm/member/\\nDisallow: /gp/cart\\nDisallow: /gp/content-form\\nDisallow: /gp/customer-images\\nDisallow: /gp/customer-media/upload\\nDisallow: /gp/customer-reviews/common/du\\nDisallow: /gp/customer-reviews/write-a-review.html\\nDisallow: /gp/flex\\nDisallow: /gp/gfix\\nDisallow: /gp/history\\nDisallow: /gp/item-dispatch\\nDisallow: /gp/legacy-handle-buy-box.html\\nDisallow: /gp/reader\\nDisallow: /gp/registry/wishlist/*/reserve\\nDisallow: /gp/richpub/listmania/createpipeline\\nDisallow: /gp/music/clipserve\\nDisallow: /gp/recsradio\\nDisallow: /gp/sign-in\\nDisallow: /gp/slides/make-money\\nDisallow: /gp/structured-ratings/actions/get-experience.html\\nDisallow: /gp/twitter/\\nDisallow: /gp/vote\\nDisallow: /gp/voting/\\nDisallow: /gp/yourstore\\nDisallow: /ap/signin\\nDisallow: /gp/registry/search.html\\nDisallow: /gp/orc/rml/\\nDisallow: /gp/dmusic/mp3/player\\nDisallow: /gp/entity-alert/external\\nDisallow: /gp/customer-reviews/dynamic/sims-box\\nDisallow: /review/dynamic/sims-box\\nDisallow: /gp/redirect.html\\nDisallow: /gp/customer-media/actions/delete/\\nDisallow: /gp/customer-media/actions/edit-caption/\\nDisallow: /gp/dmusic/\\nDisallow: /gp/customer-media/product-gallery/B007HCCOD0\\nDisallow: /gp/help/customer/display.html?*nodeId=200534000\\nDisallow: /gp/help/customer/display.html?*nodeId=200145650\\nDisallow: /gp/feature.html?*docId=1000632623\\nDisallow: /gp/aag\\nDisallow: /gp/socialmedia/giveaways\\nDisallow: /gp/aw/so.html\\nDisallow: /gp/aw/sp.html?*t=returns\\nDisallow: /gp/pdp/profile/\\nDisallow: /gp/product/product-availability\\nDisallow: /gp/offer-listing\\nDisallow: /dp/twister-update/\\nDisallow: /dp/e-mail-friend/\\nDisallow: /gp/registry/wishlist/\\nDisallow: /gp/switch-language\\nDisallow: /wishlist/\\nAllow: /wishlist/universal\\nAllow: /wishlist/vendor-button\\nAllow: /wishlist/get-button\\nDisallow: /gp/wishlist/\\nAllow: /gp/wishlist/universal\\nAllow: /gp/wishlist/vendor-button\\nAllow: /gp/wishlist/ipad-install\\nDisallow: /registry/wishlist/\\nDisallow: /local/ajax/\\nDisallow: /gp/rate-it\\nDisallow: /gp/rentallist\\nDisallow: /gp/video/dvd-rental/settings\\nDisallow: /gp/rl/settings\\nDisallow: /gp/video/settings\\nDisallow: /gp/video/watchlist\\nDisallow: /gp/video/library\\nDisallow: /o/di\\nDisallow: /o/dt\\nDisallow: /gp/profile/\\nDisallow: /reviews/iframe\\nDisallow: /ss/customer-reviews/lighthouse/\\nDisallow: /dp/product-availability/\\nDisallow: /dp/rate-this-item/\\nDisallow: /exec/obidos/account-access-login\\nDisallow: /exec/obidos/change-style\\nDisallow: /exec/obidos/di\\nDisallow: /exec/obidos/dt\\nDisallow: /exec/obidos/dt/assoc/handle-buy-box\\nDisallow: /exec/obidos/flex-sign-in\\nDisallow: /exec/obidos/handle-buy-box\\nDisallow: /exec/obidos/refer-a-friend-login\\nDisallow: /exec/obidos/subst/associates/join\\nDisallow: /exec/obidos/subst/marketplace/sell-your-collection.html\\nDisallow: /exec/obidos/subst/marketplace/sell-your-stuff.html\\nDisallow: /exec/obidos/subst/partners/friends/access.html\\nDisallow: /exec/obidos/tg/cm/member/\\nDisallow: /gp/cart\\nDisallow: /gp/content-form\\nDisallow: /gp/customer-images\\nDisallow: /gp/customer-media/upload\\nDisallow: /gp/customer-reviews/common/du\\nDisallow: /gp/customer-reviews/write-a-review.html\\nDisallow: /gp/flex\\nDisallow: /gp/gfix\\nDisallow: /gp/history\\nDisallow: /gp/item-dispatch\\nDisallow: /gp/legacy-handle-buy-box.html\\nDisallow: /gp/reader\\nDisallow: /gp/registry/wishlist/*/reserve\\nDisallow: /gp/richpub/listmania/createpipeline\\nDisallow: /gp/music/clipserve\\nDisallow: /gp/recsradio\\nDisallow: /gp/sign-in\\nDisallow: /gp/slides/make-money\\nDisallow: /gp/structured-ratings/actions/get-experience.html\\nDisallow: /gp/twitter/\\nDisallow: /gp/vote\\nDisallow: /gp/voting/\\nDisallow: /gp/yourstore\\nDisallow: /ap/signin\\nDisallow: /gp/registry/search.html\\nDisallow: /gp/orc/rml/\\nDisallow: /gp/dmusic/mp3/player\\nDisallow: /gp/entity-alert/external\\nDisallow: /gp/customer-reviews/dynamic/sims-box\\nDisallow: /review/dynamic/sims-box\\nDisallow: /gp/redirect.html\\nDisallow: /gp/customer-media/actions/delete/\\nDisallow: /gp/customer-media/actions/edit-caption/\\nDisallow: /gp/dmusic/\\nAllow: /gp/dmusic/promotions/AmazonMusicUnlimited\\nAllow: /gp/dmusic/promotions/PrimeMusic\\nDisallow: /gp/customer-media/product-gallery/B007HCCOD0\\nDisallow: /gp/help/customer/display.html?*nodeId=200534000\\nDisallow: /gp/help/customer/display.html?*nodeId=200145650\\nDisallow: /gp/feature.html?*docId=1000632623\\nDisallow: /gp/aag\\nDisallow: /gp/socialmedia/giveaways\\nDisallow: /gp/aw/so.html\\nDisallow: /gp/aw/sp.html?*t=returns\\nDisallow: /gp/pdp/profile/\\nDisallow: /gp/product/product-availability\\nDisallow: /gp/offer-listing\\nDisallow: /dp/twister-update/\\nDisallow: /dp/e-mail-friend/\\nDisallow: /gp/registry/wishlist/\\nDisallow: /gp/switch-language\\nDisallow: /wishlist/\\nAllow: /wishlist/universal\\nAllow: /wishlist/vendor-button\\nAllow: /wishlist/get-button\\nDisallow: /gp/wishlist/\\nAllow: /gp/wishlist/universal\\nAllow: /gp/wishlist/vendor-button\\nAllow: /gp/wishlist/ipad-install\\nDisallow: /registry/wishlist/\\nDisallow: /local/ajax/\\nDisallow: /gp/rate-it\\nDisallow: /gp/rentallist\\nDisallow: /gp/video/dvd-rental/settings\\nDisallow: /gp/rl/settings\\nDisallow: /gp/video/settings\\nDisallow: /gp/video/watchlist\\nDisallow: /gp/video/library\\nDisallow: /o/di\\nDisallow: /o/dt\\nAllow: /gp/dmusic/promotions/AmazonMusicUnlimitedFamily\\nDisallow: /gp/aw/ol/\\nDisallow: /hz/leaderboard/top-reviewers/\\nDisallow: /hz/leaderboard/hall-of-fame/\\nDisallow: /review/top-reviewers/\\nDisallow: /review/top-reviewers\\nDisallow: /review/hall-of-fame\\nDisallow: /reviews/top-reviewers/\\nDisallow: /reviews/top-reviewers\\nDisallow: /reviews/hall-of-fame\\nDisallow: /hz/help/contact/*/message/$\\nDisallow: /-/\\nDisallow: /gp/aw/shoppingAids/\\nAllow: /-/en/\\nDisallow: /hz/contact-us/ajax/initiate-trusted-contact/\\nDisallow: /gp/video/api\\nDisallow: /hp/video/api\\nDisallow: /gp/video/mystuff\\nDisallow: /hp/video/mystuff\\nDisallow: /gp/video/profiles\\nDisallow: /hp/video/profiles\\n\\nUser-agent: EtaoSpider\\nDisallow: /'"
      ]
     },
     "execution_count": 4,
     "metadata": {},
     "output_type": "execute_result"
    }
   ],
   "source": [
    "elm = browser.find_element_by_tag_name('pre')\n",
    "elm.text"
   ]
  },
  {
   "cell_type": "code",
   "execution_count": 5,
   "id": "c5a95be0",
   "metadata": {},
   "outputs": [],
   "source": [
    "# type(elm)"
   ]
  },
  {
   "cell_type": "code",
   "execution_count": 6,
   "id": "320c777e",
   "metadata": {},
   "outputs": [],
   "source": [
    "# elm.replace('\\n', ',')\n",
    "# elm.text"
   ]
  },
  {
   "cell_type": "code",
   "execution_count": 7,
   "id": "361d9718",
   "metadata": {},
   "outputs": [],
   "source": [
    "robots_txt = []\n",
    "robots_txt.append(elm)"
   ]
  },
  {
   "cell_type": "code",
   "execution_count": 8,
   "id": "57e18f01",
   "metadata": {},
   "outputs": [
    {
     "data": {
      "text/plain": [
       "[<selenium.webdriver.remote.webelement.WebElement (session=\"3b689dc327defded02a58e1990e3c0e3\", element=\"75f4ace7-a096-4bd5-a64a-5b080c351bec\")>]"
      ]
     },
     "execution_count": 8,
     "metadata": {},
     "output_type": "execute_result"
    }
   ],
   "source": [
    "robots_txt"
   ]
  },
  {
   "cell_type": "markdown",
   "id": "cea75872",
   "metadata": {},
   "source": [
    "#  pandasにてデータフレームを作成しCSV出力"
   ]
  },
  {
   "cell_type": "code",
   "execution_count": 9,
   "id": "90d4863d",
   "metadata": {},
   "outputs": [],
   "source": [
    "import pandas as pd"
   ]
  },
  {
   "cell_type": "code",
   "execution_count": 10,
   "id": "cbc8c602",
   "metadata": {},
   "outputs": [],
   "source": [
    "#空のDataFrameを定義\n",
    "df = pd.DataFrame()"
   ]
  },
  {
   "cell_type": "code",
   "execution_count": 12,
   "id": "d9fa0594",
   "metadata": {},
   "outputs": [],
   "source": [
    "df['robot_txt'] = robots_txt"
   ]
  },
  {
   "cell_type": "code",
   "execution_count": 13,
   "id": "ad520f12",
   "metadata": {},
   "outputs": [
    {
     "data": {
      "text/html": [
       "<div>\n",
       "<style scoped>\n",
       "    .dataframe tbody tr th:only-of-type {\n",
       "        vertical-align: middle;\n",
       "    }\n",
       "\n",
       "    .dataframe tbody tr th {\n",
       "        vertical-align: top;\n",
       "    }\n",
       "\n",
       "    .dataframe thead th {\n",
       "        text-align: right;\n",
       "    }\n",
       "</style>\n",
       "<table border=\"1\" class=\"dataframe\">\n",
       "  <thead>\n",
       "    <tr style=\"text-align: right;\">\n",
       "      <th></th>\n",
       "      <th>robot_txt</th>\n",
       "    </tr>\n",
       "  </thead>\n",
       "  <tbody>\n",
       "    <tr>\n",
       "      <th>0</th>\n",
       "      <td>&lt;selenium.webdriver.remote.webelement.WebEleme...</td>\n",
       "    </tr>\n",
       "  </tbody>\n",
       "</table>\n",
       "</div>"
      ],
      "text/plain": [
       "                                           robot_txt\n",
       "0  <selenium.webdriver.remote.webelement.WebEleme..."
      ]
     },
     "execution_count": 13,
     "metadata": {},
     "output_type": "execute_result"
    }
   ],
   "source": [
    "df"
   ]
  },
  {
   "cell_type": "code",
   "execution_count": 14,
   "id": "65d87cf9",
   "metadata": {},
   "outputs": [],
   "source": [
    "df.to_csv('robots_txt.csv')"
   ]
  },
  {
   "cell_type": "code",
   "execution_count": null,
   "id": "aad2f906",
   "metadata": {},
   "outputs": [],
   "source": []
  }
 ],
 "metadata": {
  "kernelspec": {
   "display_name": "Python 3 (ipykernel)",
   "language": "python",
   "name": "python3"
  },
  "language_info": {
   "codemirror_mode": {
    "name": "ipython",
    "version": 3
   },
   "file_extension": ".py",
   "mimetype": "text/x-python",
   "name": "python",
   "nbconvert_exporter": "python",
   "pygments_lexer": "ipython3",
   "version": "3.10.4"
  }
 },
 "nbformat": 4,
 "nbformat_minor": 5
}
